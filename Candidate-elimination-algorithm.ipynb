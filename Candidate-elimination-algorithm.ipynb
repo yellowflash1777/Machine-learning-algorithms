{
  "cells": [
    {
      "cell_type": "code",
      "execution_count": 6,
      "metadata": {
        "id": "0JucufV55rSw"
      },
      "outputs": [],
      "source": [
        "import pandas as pd\n",
        "import numpy as np"
      ]
    },
    {
      "cell_type": "code",
      "execution_count": 7,
      "metadata": {
        "colab": {
          "base_uri": "https://localhost:8080/"
        },
        "id": "5a8oChOTBNlB",
        "outputId": "6e47e654-2d06-4217-9808-0e31159fefaa"
      },
      "outputs": [
        {
          "name": "stdout",
          "output_type": "stream",
          "text": [
            "   Country   Age   Salary Purchased\n",
            "0   France  44.0  72000.0        No\n",
            "1    Spain  27.0  48000.0       Yes\n",
            "2  Germany  30.0  54000.0        No\n",
            "3    Spain  38.0  61000.0        No\n",
            "4  Germany  40.0      NaN       Yes\n",
            "5   France  35.0  58000.0       Yes\n",
            "6    Spain   NaN  52000.0        No\n",
            "7   France  48.0  79000.0       Yes\n",
            "8  Germany  50.0  83000.0        No\n",
            "9   France  37.0  67000.0       Yes\n"
          ]
        }
      ],
      "source": [
        "data = pd.read_csv(\"datasets/Data.csv\")\n",
        "print(data)"
      ]
    },
    {
      "cell_type": "code",
      "execution_count": 8,
      "metadata": {
        "colab": {
          "base_uri": "https://localhost:8080/"
        },
        "id": "jw4vLx5NF_TC",
        "outputId": "3a5681ff-0fdf-439d-9438-35fd98663b16"
      },
      "outputs": [
        {
          "name": "stdout",
          "output_type": "stream",
          "text": [
            "n The attributes are:  [['France' 44.0 72000.0]\n",
            " ['Spain' 27.0 48000.0]\n",
            " ['Germany' 30.0 54000.0]\n",
            " ['Spain' 38.0 61000.0]\n",
            " ['Germany' 40.0 nan]\n",
            " ['France' 35.0 58000.0]\n",
            " ['Spain' nan 52000.0]\n",
            " ['France' 48.0 79000.0]\n",
            " ['Germany' 50.0 83000.0]\n",
            " ['France' 37.0 67000.0]]\n"
          ]
        }
      ],
      "source": [
        "d = np.array(data)[:,:-1]\n",
        "print(\"n The attributes are: \",d)"
      ]
    },
    {
      "cell_type": "code",
      "execution_count": 9,
      "metadata": {
        "colab": {
          "base_uri": "https://localhost:8080/"
        },
        "id": "Nnst4AzVGIFL",
        "outputId": "696cd5a9-700b-4931-f533-7b074083832f"
      },
      "outputs": [
        {
          "name": "stdout",
          "output_type": "stream",
          "text": [
            "n The target is:  ['No' 'Yes' 'No' 'No' 'Yes' 'Yes' 'No' 'Yes' 'No' 'Yes']\n"
          ]
        }
      ],
      "source": [
        "target = np.array(data)[:,-1]\n",
        "print(\"n The target is: \",target)"
      ]
    },
    {
      "cell_type": "code",
      "execution_count": 10,
      "metadata": {
        "colab": {
          "base_uri": "https://localhost:8080/"
        },
        "id": "xmRqjyAFBxE4",
        "outputId": "59edee32-6f0c-481e-bbc5-cd8ba1ef396a"
      },
      "outputs": [
        {
          "name": "stdout",
          "output_type": "stream",
          "text": [
            "\n",
            "Instances are:\n",
            " [['France' 44.0 72000.0]\n",
            " ['Spain' 27.0 48000.0]\n",
            " ['Germany' 30.0 54000.0]\n",
            " ['Spain' 38.0 61000.0]\n",
            " ['Germany' 40.0 nan]\n",
            " ['France' 35.0 58000.0]\n",
            " ['Spain' nan 52000.0]\n",
            " ['France' 48.0 79000.0]\n",
            " ['Germany' 50.0 83000.0]\n",
            " ['France' 37.0 67000.0]]\n",
            "\n",
            "Target Values are:  ['No' 'Yes' 'No' 'No' 'Yes' 'Yes' 'No' 'Yes' 'No' 'Yes']\n",
            "\n",
            "Initialization of specific_h and genearal_h\n",
            "\n",
            "Specific Boundary:  ['France' 44.0 72000.0]\n",
            "\n",
            "Generic Boundary:  [['?', '?', '?'], ['?', '?', '?'], ['?', '?', '?']]\n",
            "\n",
            "Instance 1 is  ['France' 44.0 72000.0]\n",
            "Specific Bundary after  1 Instance is  ['France' 44.0 72000.0]\n",
            "Generic Boundary after  1 Instance is  [['?', '?', '?'], ['?', '?', '?'], ['?', '?', '?']]\n",
            "\n",
            "\n",
            "\n",
            "Instance 2 is  ['Spain' 27.0 48000.0]\n",
            "Specific Bundary after  2 Instance is  ['France' 44.0 72000.0]\n",
            "Generic Boundary after  2 Instance is  [['?', '?', '?'], ['?', '?', '?'], ['?', '?', '?']]\n",
            "\n",
            "\n",
            "\n",
            "Instance 3 is  ['Germany' 30.0 54000.0]\n",
            "Specific Bundary after  3 Instance is  ['France' 44.0 72000.0]\n",
            "Generic Boundary after  3 Instance is  [['?', '?', '?'], ['?', '?', '?'], ['?', '?', '?']]\n",
            "\n",
            "\n",
            "\n",
            "Instance 4 is  ['Spain' 38.0 61000.0]\n",
            "Specific Bundary after  4 Instance is  ['France' 44.0 72000.0]\n",
            "Generic Boundary after  4 Instance is  [['?', '?', '?'], ['?', '?', '?'], ['?', '?', '?']]\n",
            "\n",
            "\n",
            "\n",
            "Instance 5 is  ['Germany' 40.0 nan]\n",
            "Specific Bundary after  5 Instance is  ['France' 44.0 72000.0]\n",
            "Generic Boundary after  5 Instance is  [['?', '?', '?'], ['?', '?', '?'], ['?', '?', '?']]\n",
            "\n",
            "\n",
            "\n",
            "Instance 6 is  ['France' 35.0 58000.0]\n",
            "Specific Bundary after  6 Instance is  ['France' 44.0 72000.0]\n",
            "Generic Boundary after  6 Instance is  [['?', '?', '?'], ['?', '?', '?'], ['?', '?', '?']]\n",
            "\n",
            "\n",
            "\n",
            "Instance 7 is  ['Spain' nan 52000.0]\n",
            "Specific Bundary after  7 Instance is  ['France' 44.0 72000.0]\n",
            "Generic Boundary after  7 Instance is  [['?', '?', '?'], ['?', '?', '?'], ['?', '?', '?']]\n",
            "\n",
            "\n",
            "\n",
            "Instance 8 is  ['France' 48.0 79000.0]\n",
            "Specific Bundary after  8 Instance is  ['France' 44.0 72000.0]\n",
            "Generic Boundary after  8 Instance is  [['?', '?', '?'], ['?', '?', '?'], ['?', '?', '?']]\n",
            "\n",
            "\n",
            "\n",
            "Instance 9 is  ['Germany' 50.0 83000.0]\n",
            "Specific Bundary after  9 Instance is  ['France' 44.0 72000.0]\n",
            "Generic Boundary after  9 Instance is  [['?', '?', '?'], ['?', '?', '?'], ['?', '?', '?']]\n",
            "\n",
            "\n",
            "\n",
            "Instance 10 is  ['France' 37.0 67000.0]\n",
            "Specific Bundary after  10 Instance is  ['France' 44.0 72000.0]\n",
            "Generic Boundary after  10 Instance is  [['?', '?', '?'], ['?', '?', '?'], ['?', '?', '?']]\n",
            "\n",
            "\n",
            "Final Specific_h: \n",
            "['France' 44.0 72000.0]\n",
            "Final General_h: \n",
            "[['?', '?', '?'], ['?', '?', '?'], ['?', '?', '?']]\n"
          ]
        }
      ],
      "source": [
        "concepts = np.array(data.iloc[:,0:-1])\n",
        "print(\"\\nInstances are:\\n\",concepts)\n",
        "target = np.array(data.iloc[:,-1])\n",
        "print(\"\\nTarget Values are: \",target)\n",
        "\n",
        "def learn(concepts, target): \n",
        "    specific_h = concepts[0].copy()\n",
        "    print(\"\\nInitialization of specific_h and genearal_h\")\n",
        "    print(\"\\nSpecific Boundary: \", specific_h)\n",
        "    general_h = [[\"?\" for i in range(len(specific_h))] for i in range(len(specific_h))]\n",
        "    print(\"\\nGeneric Boundary: \",general_h)  \n",
        "\n",
        "    for i, h in enumerate(concepts):\n",
        "        print(\"\\nInstance\", i+1 , \"is \", h)\n",
        "        if target[i] == \"yes\":\n",
        "            print(\"Instance is Positive \")\n",
        "            for x in range(len(specific_h)): \n",
        "                if h[x]!= specific_h[x]:                    \n",
        "                    specific_h[x] ='?'                     \n",
        "                    general_h[x][x] ='?'\n",
        "                   \n",
        "        if target[i] == \"no\":            \n",
        "            print(\"Instance is Negative \")\n",
        "            for x in range(len(specific_h)): \n",
        "                if h[x]!= specific_h[x]:                    \n",
        "                    general_h[x][x] = specific_h[x]                \n",
        "                else:                    \n",
        "                    general_h[x][x] = '?'        \n",
        "        \n",
        "        print(\"Specific Bundary after \", i+1, \"Instance is \", specific_h)         \n",
        "        print(\"Generic Boundary after \", i+1, \"Instance is \", general_h)\n",
        "        print(\"\\n\")\n",
        "\n",
        "    indices = [i for i, val in enumerate(general_h) if val == ['?', '?', '?', '?', '?', '?']]    \n",
        "    for i in indices:   \n",
        "        general_h.remove(['?', '?', '?', '?', '?', '?']) \n",
        "    return specific_h, general_h \n",
        "\n",
        "s_final, g_final = learn(concepts, target)\n",
        "\n",
        "print(\"Final Specific_h: \", s_final, sep=\"\\n\")\n",
        "print(\"Final General_h: \", g_final, sep=\"\\n\")"
      ]
    }
  ],
  "metadata": {
    "colab": {
      "provenance": []
    },
    "kernelspec": {
      "display_name": "Python 3.10.7 64-bit",
      "language": "python",
      "name": "python3"
    },
    "language_info": {
      "codemirror_mode": {
        "name": "ipython",
        "version": 3
      },
      "file_extension": ".py",
      "mimetype": "text/x-python",
      "name": "python",
      "nbconvert_exporter": "python",
      "pygments_lexer": "ipython3",
      "version": "3.10.7"
    },
    "vscode": {
      "interpreter": {
        "hash": "938bd60441c9e3ad4b9f03573399286ce1eccdf2cec7c77cb619ef3f38c630cd"
      }
    }
  },
  "nbformat": 4,
  "nbformat_minor": 0
}
